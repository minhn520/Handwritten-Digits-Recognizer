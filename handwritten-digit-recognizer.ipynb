{
 "cells": [
  {
   "cell_type": "code",
   "execution_count": 3,
   "metadata": {
    "_cell_guid": "b1076dfc-b9ad-4769-8c92-a6c4dae69d19",
    "_uuid": "8f2839f25d086af736a60e9eeb907d3b93b6e0e5",
    "execution": {
     "iopub.execute_input": "2021-04-22T20:08:52.789247Z",
     "iopub.status.busy": "2021-04-22T20:08:52.788563Z",
     "iopub.status.idle": "2021-04-22T20:08:52.793119Z",
     "shell.execute_reply": "2021-04-22T20:08:52.793610Z"
    },
    "papermill": {
     "duration": 0.024402,
     "end_time": "2021-04-22T20:08:52.793884",
     "exception": false,
     "start_time": "2021-04-22T20:08:52.769482",
     "status": "completed"
    },
    "tags": []
   },
   "outputs": [],
   "source": [
    "\n",
    "import numpy as np \n",
    "import pandas as pd \n"
   ]
  },
  {
   "cell_type": "code",
   "execution_count": 4,
   "metadata": {
    "execution": {
     "iopub.execute_input": "2021-04-22T20:08:52.822531Z",
     "iopub.status.busy": "2021-04-22T20:08:52.821913Z",
     "iopub.status.idle": "2021-04-22T20:08:58.962799Z",
     "shell.execute_reply": "2021-04-22T20:08:58.961377Z"
    },
    "papermill": {
     "duration": 6.15569,
     "end_time": "2021-04-22T20:08:58.962965",
     "exception": false,
     "start_time": "2021-04-22T20:08:52.807275",
     "status": "completed"
    },
    "tags": []
   },
   "outputs": [],
   "source": [
    "train = pd.read_csv('train.csv')\n",
    "test = pd.read_csv('test.csv')"
   ]
  },
  {
   "cell_type": "code",
   "execution_count": 5,
   "metadata": {
    "execution": {
     "iopub.execute_input": "2021-04-22T20:08:59.004049Z",
     "iopub.status.busy": "2021-04-22T20:08:59.003213Z",
     "iopub.status.idle": "2021-04-22T20:08:59.029471Z",
     "shell.execute_reply": "2021-04-22T20:08:59.028597Z"
    },
    "papermill": {
     "duration": 0.052974,
     "end_time": "2021-04-22T20:08:59.029665",
     "exception": false,
     "start_time": "2021-04-22T20:08:58.976691",
     "status": "completed"
    },
    "tags": []
   },
   "outputs": [
    {
     "name": "stdout",
     "output_type": "stream",
     "text": [
      "(42000, 785)\n"
     ]
    },
    {
     "data": {
      "text/html": [
       "<div>\n",
       "<style scoped>\n",
       "    .dataframe tbody tr th:only-of-type {\n",
       "        vertical-align: middle;\n",
       "    }\n",
       "\n",
       "    .dataframe tbody tr th {\n",
       "        vertical-align: top;\n",
       "    }\n",
       "\n",
       "    .dataframe thead th {\n",
       "        text-align: right;\n",
       "    }\n",
       "</style>\n",
       "<table border=\"1\" class=\"dataframe\">\n",
       "  <thead>\n",
       "    <tr style=\"text-align: right;\">\n",
       "      <th></th>\n",
       "      <th>label</th>\n",
       "      <th>pixel0</th>\n",
       "      <th>pixel1</th>\n",
       "      <th>pixel2</th>\n",
       "      <th>pixel3</th>\n",
       "      <th>pixel4</th>\n",
       "      <th>pixel5</th>\n",
       "      <th>pixel6</th>\n",
       "      <th>pixel7</th>\n",
       "      <th>pixel8</th>\n",
       "      <th>...</th>\n",
       "      <th>pixel774</th>\n",
       "      <th>pixel775</th>\n",
       "      <th>pixel776</th>\n",
       "      <th>pixel777</th>\n",
       "      <th>pixel778</th>\n",
       "      <th>pixel779</th>\n",
       "      <th>pixel780</th>\n",
       "      <th>pixel781</th>\n",
       "      <th>pixel782</th>\n",
       "      <th>pixel783</th>\n",
       "    </tr>\n",
       "  </thead>\n",
       "  <tbody>\n",
       "    <tr>\n",
       "      <th>0</th>\n",
       "      <td>1</td>\n",
       "      <td>0</td>\n",
       "      <td>0</td>\n",
       "      <td>0</td>\n",
       "      <td>0</td>\n",
       "      <td>0</td>\n",
       "      <td>0</td>\n",
       "      <td>0</td>\n",
       "      <td>0</td>\n",
       "      <td>0</td>\n",
       "      <td>...</td>\n",
       "      <td>0</td>\n",
       "      <td>0</td>\n",
       "      <td>0</td>\n",
       "      <td>0</td>\n",
       "      <td>0</td>\n",
       "      <td>0</td>\n",
       "      <td>0</td>\n",
       "      <td>0</td>\n",
       "      <td>0</td>\n",
       "      <td>0</td>\n",
       "    </tr>\n",
       "    <tr>\n",
       "      <th>1</th>\n",
       "      <td>0</td>\n",
       "      <td>0</td>\n",
       "      <td>0</td>\n",
       "      <td>0</td>\n",
       "      <td>0</td>\n",
       "      <td>0</td>\n",
       "      <td>0</td>\n",
       "      <td>0</td>\n",
       "      <td>0</td>\n",
       "      <td>0</td>\n",
       "      <td>...</td>\n",
       "      <td>0</td>\n",
       "      <td>0</td>\n",
       "      <td>0</td>\n",
       "      <td>0</td>\n",
       "      <td>0</td>\n",
       "      <td>0</td>\n",
       "      <td>0</td>\n",
       "      <td>0</td>\n",
       "      <td>0</td>\n",
       "      <td>0</td>\n",
       "    </tr>\n",
       "    <tr>\n",
       "      <th>2</th>\n",
       "      <td>1</td>\n",
       "      <td>0</td>\n",
       "      <td>0</td>\n",
       "      <td>0</td>\n",
       "      <td>0</td>\n",
       "      <td>0</td>\n",
       "      <td>0</td>\n",
       "      <td>0</td>\n",
       "      <td>0</td>\n",
       "      <td>0</td>\n",
       "      <td>...</td>\n",
       "      <td>0</td>\n",
       "      <td>0</td>\n",
       "      <td>0</td>\n",
       "      <td>0</td>\n",
       "      <td>0</td>\n",
       "      <td>0</td>\n",
       "      <td>0</td>\n",
       "      <td>0</td>\n",
       "      <td>0</td>\n",
       "      <td>0</td>\n",
       "    </tr>\n",
       "    <tr>\n",
       "      <th>3</th>\n",
       "      <td>4</td>\n",
       "      <td>0</td>\n",
       "      <td>0</td>\n",
       "      <td>0</td>\n",
       "      <td>0</td>\n",
       "      <td>0</td>\n",
       "      <td>0</td>\n",
       "      <td>0</td>\n",
       "      <td>0</td>\n",
       "      <td>0</td>\n",
       "      <td>...</td>\n",
       "      <td>0</td>\n",
       "      <td>0</td>\n",
       "      <td>0</td>\n",
       "      <td>0</td>\n",
       "      <td>0</td>\n",
       "      <td>0</td>\n",
       "      <td>0</td>\n",
       "      <td>0</td>\n",
       "      <td>0</td>\n",
       "      <td>0</td>\n",
       "    </tr>\n",
       "    <tr>\n",
       "      <th>4</th>\n",
       "      <td>0</td>\n",
       "      <td>0</td>\n",
       "      <td>0</td>\n",
       "      <td>0</td>\n",
       "      <td>0</td>\n",
       "      <td>0</td>\n",
       "      <td>0</td>\n",
       "      <td>0</td>\n",
       "      <td>0</td>\n",
       "      <td>0</td>\n",
       "      <td>...</td>\n",
       "      <td>0</td>\n",
       "      <td>0</td>\n",
       "      <td>0</td>\n",
       "      <td>0</td>\n",
       "      <td>0</td>\n",
       "      <td>0</td>\n",
       "      <td>0</td>\n",
       "      <td>0</td>\n",
       "      <td>0</td>\n",
       "      <td>0</td>\n",
       "    </tr>\n",
       "  </tbody>\n",
       "</table>\n",
       "<p>5 rows × 785 columns</p>\n",
       "</div>"
      ],
      "text/plain": [
       "   label  pixel0  pixel1  pixel2  pixel3  pixel4  pixel5  pixel6  pixel7  \\\n",
       "0      1       0       0       0       0       0       0       0       0   \n",
       "1      0       0       0       0       0       0       0       0       0   \n",
       "2      1       0       0       0       0       0       0       0       0   \n",
       "3      4       0       0       0       0       0       0       0       0   \n",
       "4      0       0       0       0       0       0       0       0       0   \n",
       "\n",
       "   pixel8  ...  pixel774  pixel775  pixel776  pixel777  pixel778  pixel779  \\\n",
       "0       0  ...         0         0         0         0         0         0   \n",
       "1       0  ...         0         0         0         0         0         0   \n",
       "2       0  ...         0         0         0         0         0         0   \n",
       "3       0  ...         0         0         0         0         0         0   \n",
       "4       0  ...         0         0         0         0         0         0   \n",
       "\n",
       "   pixel780  pixel781  pixel782  pixel783  \n",
       "0         0         0         0         0  \n",
       "1         0         0         0         0  \n",
       "2         0         0         0         0  \n",
       "3         0         0         0         0  \n",
       "4         0         0         0         0  \n",
       "\n",
       "[5 rows x 785 columns]"
      ]
     },
     "execution_count": 5,
     "metadata": {},
     "output_type": "execute_result"
    }
   ],
   "source": [
    "print(train.shape)\n",
    "train.head()"
   ]
  },
  {
   "cell_type": "code",
   "execution_count": 6,
   "metadata": {
    "execution": {
     "iopub.execute_input": "2021-04-22T20:08:59.061395Z",
     "iopub.status.busy": "2021-04-22T20:08:59.060721Z",
     "iopub.status.idle": "2021-04-22T20:08:59.113622Z",
     "shell.execute_reply": "2021-04-22T20:08:59.113107Z"
    },
    "papermill": {
     "duration": 0.070413,
     "end_time": "2021-04-22T20:08:59.113762",
     "exception": false,
     "start_time": "2021-04-22T20:08:59.043349",
     "status": "completed"
    },
    "tags": []
   },
   "outputs": [
    {
     "data": {
      "text/plain": [
       "label       0\n",
       "pixel0      0\n",
       "pixel1      0\n",
       "pixel2      0\n",
       "pixel3      0\n",
       "           ..\n",
       "pixel779    0\n",
       "pixel780    0\n",
       "pixel781    0\n",
       "pixel782    0\n",
       "pixel783    0\n",
       "Length: 785, dtype: int64"
      ]
     },
     "execution_count": 6,
     "metadata": {},
     "output_type": "execute_result"
    }
   ],
   "source": [
    "train.isnull().sum()"
   ]
  },
  {
   "cell_type": "code",
   "execution_count": 27,
   "metadata": {
    "execution": {
     "iopub.execute_input": "2021-04-22T20:08:59.247922Z",
     "iopub.status.busy": "2021-04-22T20:08:59.247005Z",
     "iopub.status.idle": "2021-04-22T20:08:59.249812Z",
     "shell.execute_reply": "2021-04-22T20:08:59.249294Z"
    },
    "papermill": {
     "duration": 0.122418,
     "end_time": "2021-04-22T20:08:59.249951",
     "exception": false,
     "start_time": "2021-04-22T20:08:59.127533",
     "status": "completed"
    },
    "tags": []
   },
   "outputs": [],
   "source": [
    "X = train.drop('label',axis=1)\n",
    "y = train['label']"
   ]
  },
  {
   "cell_type": "markdown",
   "metadata": {},
   "source": [
    "### Convert dataframe to numpy arrays\n",
    "-1: keep number of row the same <br>\n",
    "28, 28: height, width <br>\n",
    "1: grayscale"
   ]
  },
  {
   "cell_type": "code",
   "execution_count": 28,
   "metadata": {
    "execution": {
     "iopub.execute_input": "2021-04-22T20:08:59.283393Z",
     "iopub.status.busy": "2021-04-22T20:08:59.282532Z",
     "iopub.status.idle": "2021-04-22T20:08:59.284859Z",
     "shell.execute_reply": "2021-04-22T20:08:59.285347Z"
    },
    "papermill": {
     "duration": 0.021575,
     "end_time": "2021-04-22T20:08:59.285514",
     "exception": false,
     "start_time": "2021-04-22T20:08:59.263939",
     "status": "completed"
    },
    "tags": []
   },
   "outputs": [],
   "source": [
    "X = X.values.reshape(-1, 28, 28, 1) \n",
    "y = y.values"
   ]
  },
  {
   "cell_type": "markdown",
   "metadata": {},
   "source": [
    "### Create the model using TensorFlow Keras"
   ]
  },
  {
   "cell_type": "code",
   "execution_count": 9,
   "metadata": {
    "execution": {
     "iopub.execute_input": "2021-04-22T20:09:03.272408Z",
     "iopub.status.busy": "2021-04-22T20:09:03.271745Z",
     "iopub.status.idle": "2021-04-22T20:09:08.943108Z",
     "shell.execute_reply": "2021-04-22T20:09:08.942481Z"
    },
    "papermill": {
     "duration": 5.697958,
     "end_time": "2021-04-22T20:09:08.943253",
     "exception": false,
     "start_time": "2021-04-22T20:09:03.245295",
     "status": "completed"
    },
    "tags": []
   },
   "outputs": [],
   "source": [
    "import keras\n",
    "from keras.datasets import mnist\n",
    "from keras.models import Sequential\n",
    "from keras.layers import Dense, Dropout, Flatten\n",
    "from keras.layers import Conv2D, MaxPooling2D\n",
    "from keras import backend as K\n",
    "\n",
    "num_classes = 10\n",
    "\n",
    "input_shape = (28, 28, 1)\n",
    "\n",
    "\n",
    "# create convolution model using tensorflow keras\n",
    "model = Sequential()\n",
    "model.add(Conv2D(64, kernel_size=(3, 3),activation='relu',input_shape=input_shape))\n",
    "model.add(MaxPooling2D(pool_size=(2, 2)))\n",
    "model.add(Conv2D(128, (3, 3), activation='relu'))\n",
    "model.add(MaxPooling2D(pool_size=(2, 2)))\n",
    "model.add(Flatten())\n",
    "model.add(Dropout(0.5))\n",
    "model.add(Dense(256, activation='relu'))\n",
    "model.add(Dense(num_classes, activation='softmax'))\n",
    "\n",
    "model.compile(loss='sparse_categorical_crossentropy', optimizer='adam',metrics=['accuracy'])"
   ]
  },
  {
   "cell_type": "markdown",
   "metadata": {},
   "source": [
    "### Train the model"
   ]
  },
  {
   "cell_type": "code",
   "execution_count": 10,
   "metadata": {
    "execution": {
     "iopub.execute_input": "2021-04-22T20:09:08.987682Z",
     "iopub.status.busy": "2021-04-22T20:09:08.987047Z",
     "iopub.status.idle": "2021-04-22T20:32:14.031961Z",
     "shell.execute_reply": "2021-04-22T20:32:14.032505Z"
    },
    "papermill": {
     "duration": 1385.069898,
     "end_time": "2021-04-22T20:32:14.032682",
     "exception": false,
     "start_time": "2021-04-22T20:09:08.962784",
     "status": "completed"
    },
    "tags": []
   },
   "outputs": [
    {
     "name": "stdout",
     "output_type": "stream",
     "text": [
      "The model has successfully trained\n",
      "Saving the model as mnist.h5\n"
     ]
    }
   ],
   "source": [
    "# Train the model\n",
    "\n",
    "batch_size = 128\n",
    "epochs = 40\n",
    "\n",
    "\n",
    "hist = model.fit(X, y, validation_split=0.1, batch_size=batch_size, epochs=epochs, verbose=0)\n",
    "print(\"The model has successfully trained\")\n",
    "\n",
    "model.save('mnist.h5')\n",
    "print(\"Saving the model as mnist.h5\")"
   ]
  },
  {
   "cell_type": "code",
   "execution_count": 11,
   "metadata": {
    "execution": {
     "iopub.execute_input": "2021-04-22T20:32:14.074546Z",
     "iopub.status.busy": "2021-04-22T20:32:14.073856Z",
     "iopub.status.idle": "2021-04-22T20:32:14.076540Z",
     "shell.execute_reply": "2021-04-22T20:32:14.077244Z"
    },
    "papermill": {
     "duration": 0.026606,
     "end_time": "2021-04-22T20:32:14.077453",
     "exception": false,
     "start_time": "2021-04-22T20:32:14.050847",
     "status": "completed"
    },
    "tags": []
   },
   "outputs": [
    {
     "name": "stdout",
     "output_type": "stream",
     "text": [
      "dict_keys(['loss', 'accuracy', 'val_loss', 'val_accuracy'])\n"
     ]
    }
   ],
   "source": [
    "# list all data in history\n",
    "print(hist.history.keys())"
   ]
  },
  {
   "cell_type": "markdown",
   "metadata": {},
   "source": [
    "### Visualize the model accuracy and loss"
   ]
  },
  {
   "cell_type": "code",
   "execution_count": 13,
   "metadata": {
    "execution": {
     "iopub.execute_input": "2021-04-22T20:32:14.119625Z",
     "iopub.status.busy": "2021-04-22T20:32:14.118982Z",
     "iopub.status.idle": "2021-04-22T20:32:14.691781Z",
     "shell.execute_reply": "2021-04-22T20:32:14.691214Z"
    },
    "papermill": {
     "duration": 0.594286,
     "end_time": "2021-04-22T20:32:14.691925",
     "exception": false,
     "start_time": "2021-04-22T20:32:14.097639",
     "status": "completed"
    },
    "tags": []
   },
   "outputs": [
    {
     "data": {
      "image/png": "[encoded data removed]",
      "text/plain": [
       "<Figure size 432x288 with 1 Axes>"
      ]
     },
     "metadata": {
      "needs_background": "light"
     },
     "output_type": "display_data"
    },
    {
     "data": {
      "image/png": "[encoded data removed]",
      "text/plain": [
       "<Figure size 432x288 with 1 Axes>"
      ]
     },
     "metadata": {
      "needs_background": "light"
     },
     "output_type": "display_data"
    }
   ],
   "source": [
    "import matplotlib.pyplot as plt\n",
    "\n",
    "# summarize history for accuracy\n",
    "plt.plot(hist.history['accuracy'])\n",
    "plt.plot(hist.history['val_accuracy'])\n",
    "plt.title('model accuracy')\n",
    "plt.ylabel('accuracy')\n",
    "plt.xlabel('epoch')\n",
    "plt.legend(['train', 'test'], loc='upper left')\n",
    "plt.show()\n",
    "\n",
    "# summarize history for loss\n",
    "plt.plot(hist.history['loss'])\n",
    "plt.plot(hist.history['val_loss'])\n",
    "plt.title('model loss')\n",
    "plt.ylabel('loss')\n",
    "plt.xlabel('epoch')\n",
    "plt.legend(['train', 'test'], loc='upper left')\n",
    "plt.show()"
   ]
  },
  {
   "cell_type": "code",
   "execution_count": 14,
   "metadata": {
    "execution": {
     "iopub.execute_input": "2021-04-22T20:32:14.739494Z",
     "iopub.status.busy": "2021-04-22T20:32:14.738843Z",
     "iopub.status.idle": "2021-04-22T20:32:27.829942Z",
     "shell.execute_reply": "2021-04-22T20:32:27.829087Z"
    },
    "papermill": {
     "duration": 13.117175,
     "end_time": "2021-04-22T20:32:27.830142",
     "exception": false,
     "start_time": "2021-04-22T20:32:14.712967",
     "status": "completed"
    },
    "tags": []
   },
   "outputs": [
    {
     "name": "stdout",
     "output_type": "stream",
     "text": [
      "Test loss: 0.0052346037700772285\n",
      "Test accuracy: 0.9989047646522522\n"
     ]
    }
   ],
   "source": [
    "# get accuracy and loss\n",
    "score = model.evaluate(X, y, verbose=0)\n",
    "print('Test loss:', score[0])\n",
    "print('Test accuracy:', score[1])"
   ]
  },
  {
   "cell_type": "markdown",
   "metadata": {},
   "source": [
    "### Accuracy looks good. Now we will use the model on test data"
   ]
  },
  {
   "cell_type": "code",
   "execution_count": null,
   "metadata": {
    "execution": {
     "iopub.execute_input": "2021-04-22T20:32:27.878778Z",
     "iopub.status.busy": "2021-04-22T20:32:27.877934Z",
     "iopub.status.idle": "2021-04-22T20:32:27.882231Z",
     "shell.execute_reply": "2021-04-22T20:32:27.881556Z"
    },
    "papermill": {
     "duration": 0.030408,
     "end_time": "2021-04-22T20:32:27.882379",
     "exception": false,
     "start_time": "2021-04-22T20:32:27.851971",
     "status": "completed"
    },
    "tags": []
   },
   "outputs": [],
   "source": [
    "# get test data and reformat it\n",
    "test = test.values.reshape(-1,28,28,1)"
   ]
  },
  {
   "cell_type": "code",
   "execution_count": null,
   "metadata": {
    "execution": {
     "iopub.execute_input": "2021-04-22T20:32:27.932094Z",
     "iopub.status.busy": "2021-04-22T20:32:27.930889Z",
     "iopub.status.idle": "2021-04-22T20:32:36.422533Z",
     "shell.execute_reply": "2021-04-22T20:32:36.423117Z"
    },
    "papermill": {
     "duration": 8.518819,
     "end_time": "2021-04-22T20:32:36.423297",
     "exception": false,
     "start_time": "2021-04-22T20:32:27.904478",
     "status": "completed"
    },
    "tags": []
   },
   "outputs": [],
   "source": [
    "# make predictions on the test dataset\n",
    "predictions = model.predict(test)\n",
    "results = predictions.argmax(axis=-1)\n"
   ]
  },
  {
   "cell_type": "code",
   "execution_count": null,
   "metadata": {
    "execution": {
     "iopub.execute_input": "2021-04-22T20:32:36.469044Z",
     "iopub.status.busy": "2021-04-22T20:32:36.468442Z",
     "iopub.status.idle": "2021-04-22T20:32:36.484004Z",
     "shell.execute_reply": "2021-04-22T20:32:36.484521Z"
    },
    "papermill": {
     "duration": 0.039836,
     "end_time": "2021-04-22T20:32:36.484681",
     "exception": false,
     "start_time": "2021-04-22T20:32:36.444845",
     "status": "completed"
    },
    "tags": []
   },
   "outputs": [],
   "source": [
    "# create output dataframe and generate ImageID based on size of result set\n",
    "output = pd.DataFrame()\n",
    "output['ImageId'] = range(1, len(results) + 1)"
   ]
  },
  {
   "cell_type": "code",
   "execution_count": null,
   "metadata": {
    "execution": {
     "iopub.execute_input": "2021-04-22T20:32:36.531215Z",
     "iopub.status.busy": "2021-04-22T20:32:36.530583Z",
     "iopub.status.idle": "2021-04-22T20:32:36.591756Z",
     "shell.execute_reply": "2021-04-22T20:32:36.592293Z"
    },
    "papermill": {
     "duration": 0.086363,
     "end_time": "2021-04-22T20:32:36.592481",
     "exception": false,
     "start_time": "2021-04-22T20:32:36.506118",
     "status": "completed"
    },
    "tags": []
   },
   "outputs": [],
   "source": [
    "# export predictiosn to output fil\n",
    "output['Label'] = results\n",
    "output.to_csv(\"output.csv\", index = False)\n",
    "print (\"Output file saved.\")"
   ]
  },
  {
   "cell_type": "code",
   "execution_count": 50,
   "metadata": {},
   "outputs": [],
   "source": [
    "from keras.models import load_model\n",
    "from tkinter import *\n",
    "import tkinter as tk\n",
    "import win32gui\n",
    "from PIL import ImageGrab, Image\n",
    "import numpy as np\n",
    "model = load_model('mnist.h5')\n",
    "\n",
    "\n",
    "def predict_digit(img):\n",
    "    #resize image to 28x28 pixels\n",
    "    img = img.resize((28,28))\n",
    "    #convert rgb to grayscale\n",
    "    img = img.convert('L')\n",
    "    img = np.array(img)\n",
    "    \n",
    "    #reshaping to support our model input and normalizing\n",
    "    #print (np.rint(-((img/255.0) - 1)*10)*25)\n",
    "    img = (np.rint(-((img/255.0) - 1)*10)*25)\n",
    "    img = img.reshape(1,28,28,-1)\n",
    "    # img/255.0\n",
    "    #print (img)\n",
    "    \n",
    "    #predicting the class\n",
    "    test = model.predict(img)\n",
    "    test2 = test.argmax(axis=-1)\n",
    "    res = model.predict(img)[0]\n",
    "    #print (test2)\n",
    "    return np.argmax(res), max(res)\n",
    "\n",
    "\n",
    "class App(tk.Tk):\n",
    "    def __init__(self):\n",
    "        tk.Tk.__init__(self)\n",
    "        self.x = self.y = 0\n",
    "        # Creating elements\n",
    "        self.canvas = tk.Canvas(self, width=300, height=300, bg = \"white\", cursor=\"cross\")\n",
    "        self.label = tk.Label(self, text=\"Thinking..\", font=(\"Helvetica\", 48))\n",
    "        self.classify_btn = tk.Button(self, text = \"Recognise\", command = self.classify_handwriting) \n",
    "        self.button_clear = tk.Button(self, text = \"Clear\", command = self.clear_all)\n",
    "        \n",
    "        # Grid structure\n",
    "        self.canvas.grid(row=0, column=0, pady=2, sticky=W, )\n",
    "        self.label.grid(row=0, column=1,pady=2, padx=2)\n",
    "        self.classify_btn.grid(row=1, column=1, pady=2, padx=2)\n",
    "        self.button_clear.grid(row=1, column=0, pady=2)\n",
    "        \n",
    "        self.canvas.bind(\"<B1-Motion>\", self.draw_lines)\n",
    "        \n",
    "    def clear_all(self):\n",
    "        self.canvas.delete(\"all\")\n",
    "        \n",
    "    def classify_handwriting(self):\n",
    "        HWND = self.canvas.winfo_id() # get the handle of the canvas\n",
    "        rect = win32gui.GetWindowRect(HWND) # get the coordinate of the canvas\n",
    "        im = ImageGrab.grab(rect)\n",
    "       \n",
    "        digit, acc = predict_digit(im)\n",
    "        self.label.configure(text= str(digit)+', '+ str(int(acc*100))+'%')\n",
    "        \n",
    "    def draw_lines(self, event):\n",
    "        self.x = event.x\n",
    "        self.y = event.y\n",
    "        r=8\n",
    "        self.canvas.create_oval(self.x-r, self.y-r, self.x + r, self.y + r, fill='black')\n",
    "        \n",
    "app = App()\n",
    "mainloop()"
   ]
  },
  {
   "cell_type": "code",
   "execution_count": null,
   "metadata": {},
   "outputs": [],
   "source": []
  },
  {
   "cell_type": "code",
   "execution_count": null,
   "metadata": {},
   "outputs": [],
   "source": []
  }
 ],
 "metadata": {
  "kernelspec": {
   "display_name": "Python 3",
   "language": "python",
   "name": "python3"
  },
  "language_info": {
   "codemirror_mode": {
    "name": "ipython",
    "version": 3
   },
   "file_extension": ".py",
   "mimetype": "text/x-python",
   "name": "python",
   "nbconvert_exporter": "python",
   "pygments_lexer": "ipython3",
   "version": "3.7.6"
  },
  "papermill": {
   "default_parameters": {},
   "duration": 1431.208806,
   "end_time": "2021-04-22T20:32:37.825023",
   "environment_variables": {},
   "exception": null,
   "input_path": "__notebook__.ipynb",
   "output_path": "__notebook__.ipynb",
   "parameters": {},
   "start_time": "2021-04-22T20:08:46.616217",
   "version": "2.3.2"
  }
 },
 "nbformat": 4,
 "nbformat_minor": 5
}
